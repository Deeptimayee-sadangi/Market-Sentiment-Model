{
 "cells": [
  {
   "cell_type": "code",
   "execution_count": 1,
   "id": "e642bfb3",
   "metadata": {},
   "outputs": [
    {
     "name": "stderr",
     "output_type": "stream",
     "text": [
      "C:\\Users\\taswi\\anaconda3\\lib\\site-packages\\scipy\\__init__.py:146: UserWarning: A NumPy version >=1.16.5 and <1.23.0 is required for this version of SciPy (detected version 1.26.4\n",
      "  warnings.warn(f\"A NumPy version >={np_minversion} and <{np_maxversion}\"\n"
     ]
    }
   ],
   "source": [
    "import pandas as pd\n",
    "import csv\n",
    "from imblearn.over_sampling import SMOTE\n",
    "from sklearn.feature_extraction.text import TfidfVectorizer\n",
    "from sklearn.model_selection import train_test_split\n",
    "from sklearn.linear_model import LogisticRegression\n",
    "from sklearn.metrics import accuracy_score\n",
    "from sklearn.pipeline import make_pipeline\n",
    "from sklearn.feature_extraction.text import HashingVectorizer\n",
    "import seaborn as sns\n",
    "import matplotlib.pyplot as plt\n",
    "from sklearn.ensemble import GradientBoostingClassifier\n",
    "from sklearn.metrics import classification_report"
   ]
  },
  {
   "cell_type": "code",
   "execution_count": 2,
   "id": "706888b8",
   "metadata": {},
   "outputs": [],
   "source": [
    "def read_data(csv_file):\n",
    "    data =[]\n",
    "    with open(csv_file, 'r', encoding='utf-8') as file:\n",
    "        reader = csv.reader(file)\n",
    "        for row in reader:\n",
    "            data.append(row)\n",
    "\n",
    "    header = data[0]\n",
    "\n",
    "    # Create DataFrame from the remaining rows (excluding the header row)\n",
    "    df = pd.DataFrame(data[1:], columns=header)\n",
    "    df.rename(columns={header[0]: 'Bookmark'}, inplace=True)\n",
    "    return df"
   ]
  },
  {
   "cell_type": "code",
   "execution_count": 3,
   "id": "277e7f0f",
   "metadata": {},
   "outputs": [
    {
     "data": {
      "text/html": [
       "<div>\n",
       "<style scoped>\n",
       "    .dataframe tbody tr th:only-of-type {\n",
       "        vertical-align: middle;\n",
       "    }\n",
       "\n",
       "    .dataframe tbody tr th {\n",
       "        vertical-align: top;\n",
       "    }\n",
       "\n",
       "    .dataframe thead th {\n",
       "        text-align: right;\n",
       "    }\n",
       "</style>\n",
       "<table border=\"1\" class=\"dataframe\">\n",
       "  <thead>\n",
       "    <tr style=\"text-align: right;\">\n",
       "      <th></th>\n",
       "      <th>Bookmark</th>\n",
       "      <th>Datetime</th>\n",
       "      <th>Summary Sentiment</th>\n",
       "      <th>Headline</th>\n",
       "      <th>Summary</th>\n",
       "      <th>Source</th>\n",
       "    </tr>\n",
       "  </thead>\n",
       "  <tbody>\n",
       "    <tr>\n",
       "      <th>0</th>\n",
       "      <td>No</td>\n",
       "      <td>2024-02-12 15:49:00</td>\n",
       "      <td>-0.99</td>\n",
       "      <td>PSU banking stocks drag down Sensex, Nifty; an...</td>\n",
       "      <td>Analysts expect markets to observe consolidati...</td>\n",
       "      <td>Money Control</td>\n",
       "    </tr>\n",
       "    <tr>\n",
       "      <th>1</th>\n",
       "      <td>No</td>\n",
       "      <td>2024-02-12 15:49:00</td>\n",
       "      <td>-0.99</td>\n",
       "      <td>Mamaearth parent Honasa Consumer stock soars 1...</td>\n",
       "      <td>Analysts at JPMorgan downgraded the stock to '...</td>\n",
       "      <td>Money Control</td>\n",
       "    </tr>\n",
       "    <tr>\n",
       "      <th>2</th>\n",
       "      <td>No</td>\n",
       "      <td>2024-02-12 15:41:00</td>\n",
       "      <td>-0.99</td>\n",
       "      <td>Live: Nifty sees triple-digit fall; Smallcaps ...</td>\n",
       "      <td>PSU stocks come under pressure dragging the be...</td>\n",
       "      <td>Money Control</td>\n",
       "    </tr>\n",
       "    <tr>\n",
       "      <th>3</th>\n",
       "      <td>No</td>\n",
       "      <td>2024-02-12 15:36:00</td>\n",
       "      <td>-0.96</td>\n",
       "      <td>Bandhan Bank slumps over 7% as weak asset qual...</td>\n",
       "      <td>Release of claims under government guarantees ...</td>\n",
       "      <td>Money Control</td>\n",
       "    </tr>\n",
       "    <tr>\n",
       "      <th>4</th>\n",
       "      <td>No</td>\n",
       "      <td>2024-02-12 15:35:00</td>\n",
       "      <td>-0.97</td>\n",
       "      <td>Entero Healthcare Solutions IPO sees muted res...</td>\n",
       "      <td>The Faridabad-based healthcare products distri...</td>\n",
       "      <td>Money Control</td>\n",
       "    </tr>\n",
       "  </tbody>\n",
       "</table>\n",
       "</div>"
      ],
      "text/plain": [
       "  Bookmark             Datetime Summary Sentiment  \\\n",
       "0       No  2024-02-12 15:49:00             -0.99   \n",
       "1       No  2024-02-12 15:49:00             -0.99   \n",
       "2       No  2024-02-12 15:41:00             -0.99   \n",
       "3       No  2024-02-12 15:36:00             -0.96   \n",
       "4       No  2024-02-12 15:35:00             -0.97   \n",
       "\n",
       "                                            Headline  \\\n",
       "0  PSU banking stocks drag down Sensex, Nifty; an...   \n",
       "1  Mamaearth parent Honasa Consumer stock soars 1...   \n",
       "2  Live: Nifty sees triple-digit fall; Smallcaps ...   \n",
       "3  Bandhan Bank slumps over 7% as weak asset qual...   \n",
       "4  Entero Healthcare Solutions IPO sees muted res...   \n",
       "\n",
       "                                             Summary         Source  \n",
       "0  Analysts expect markets to observe consolidati...  Money Control  \n",
       "1  Analysts at JPMorgan downgraded the stock to '...  Money Control  \n",
       "2  PSU stocks come under pressure dragging the be...  Money Control  \n",
       "3  Release of claims under government guarantees ...  Money Control  \n",
       "4  The Faridabad-based healthcare products distri...  Money Control  "
      ]
     },
     "execution_count": 3,
     "metadata": {},
     "output_type": "execute_result"
    }
   ],
   "source": [
    "csv_file = \"C:\\\\Users\\\\taswi\\\\Python Project\\\\export news\\\\news_2024-02-12_16-14-41.csv\"\n",
    "df1 = read_data(csv_file)\n",
    "df1.head()"
   ]
  },
  {
   "cell_type": "code",
   "execution_count": 4,
   "id": "e824b40e",
   "metadata": {},
   "outputs": [
    {
     "data": {
      "text/html": [
       "<div>\n",
       "<style scoped>\n",
       "    .dataframe tbody tr th:only-of-type {\n",
       "        vertical-align: middle;\n",
       "    }\n",
       "\n",
       "    .dataframe tbody tr th {\n",
       "        vertical-align: top;\n",
       "    }\n",
       "\n",
       "    .dataframe thead th {\n",
       "        text-align: right;\n",
       "    }\n",
       "</style>\n",
       "<table border=\"1\" class=\"dataframe\">\n",
       "  <thead>\n",
       "    <tr style=\"text-align: right;\">\n",
       "      <th></th>\n",
       "      <th>Bookmark</th>\n",
       "      <th>Datetime</th>\n",
       "      <th>Summary Sentiment</th>\n",
       "      <th>Headline</th>\n",
       "      <th>Summary</th>\n",
       "      <th>Source</th>\n",
       "    </tr>\n",
       "  </thead>\n",
       "  <tbody>\n",
       "    <tr>\n",
       "      <th>0</th>\n",
       "      <td>Yes</td>\n",
       "      <td>2024-02-13 15:20:00</td>\n",
       "      <td>0.88</td>\n",
       "      <td>Info Edge back in black in Q3 after a surprise...</td>\n",
       "      <td>The company’s consolidated revenue increased b...</td>\n",
       "      <td>Money Control</td>\n",
       "    </tr>\n",
       "    <tr>\n",
       "      <th>1</th>\n",
       "      <td>Yes</td>\n",
       "      <td>2024-02-13 15:19:00</td>\n",
       "      <td>0.94</td>\n",
       "      <td>Eicher Motors Q3 results: Net profit surges 34...</td>\n",
       "      <td>The automaker’s revenue increased 12.28 per ce...</td>\n",
       "      <td>Money Control</td>\n",
       "    </tr>\n",
       "    <tr>\n",
       "      <th>2</th>\n",
       "      <td>No</td>\n",
       "      <td>2024-02-13 15:09:43.029172</td>\n",
       "      <td>0.99</td>\n",
       "      <td>“Very proud of our diaspora,” says PM Modi ahe...</td>\n",
       "      <td>The PM also emphasised that he looks forward t...</td>\n",
       "      <td>Zerodha</td>\n",
       "    </tr>\n",
       "    <tr>\n",
       "      <th>3</th>\n",
       "      <td>No</td>\n",
       "      <td>2024-02-13 15:08:00</td>\n",
       "      <td>0.9</td>\n",
       "      <td>Relative outperformer candidates for a volatil...</td>\n",
       "      <td>On Monday, when the whole market was reeling u...</td>\n",
       "      <td>Economic Times</td>\n",
       "    </tr>\n",
       "    <tr>\n",
       "      <th>4</th>\n",
       "      <td>Yes</td>\n",
       "      <td>2024-02-13 15:02:00</td>\n",
       "      <td>-0.99</td>\n",
       "      <td>Siemens Q3 net profit rises 9% to Rs 5,057 cro...</td>\n",
       "      <td>The company's EBITDA margin fell nearly 170 ba...</td>\n",
       "      <td>Money Control</td>\n",
       "    </tr>\n",
       "  </tbody>\n",
       "</table>\n",
       "</div>"
      ],
      "text/plain": [
       "  Bookmark                    Datetime Summary Sentiment  \\\n",
       "0      Yes         2024-02-13 15:20:00              0.88   \n",
       "1      Yes         2024-02-13 15:19:00              0.94   \n",
       "2       No  2024-02-13 15:09:43.029172              0.99   \n",
       "3       No         2024-02-13 15:08:00               0.9   \n",
       "4      Yes         2024-02-13 15:02:00             -0.99   \n",
       "\n",
       "                                            Headline  \\\n",
       "0  Info Edge back in black in Q3 after a surprise...   \n",
       "1  Eicher Motors Q3 results: Net profit surges 34...   \n",
       "2  “Very proud of our diaspora,” says PM Modi ahe...   \n",
       "3  Relative outperformer candidates for a volatil...   \n",
       "4  Siemens Q3 net profit rises 9% to Rs 5,057 cro...   \n",
       "\n",
       "                                             Summary          Source  \n",
       "0  The company’s consolidated revenue increased b...   Money Control  \n",
       "1  The automaker’s revenue increased 12.28 per ce...   Money Control  \n",
       "2  The PM also emphasised that he looks forward t...         Zerodha  \n",
       "3  On Monday, when the whole market was reeling u...  Economic Times  \n",
       "4  The company's EBITDA margin fell nearly 170 ba...   Money Control  "
      ]
     },
     "execution_count": 4,
     "metadata": {},
     "output_type": "execute_result"
    }
   ],
   "source": [
    "csv_file = \"C:\\\\Users\\\\taswi\\\\Python Project\\\\export news\\\\news_2024-02-13_15-34-49.csv\"\n",
    "df2 = read_data(csv_file)\n",
    "df2.head()"
   ]
  },
  {
   "cell_type": "code",
   "execution_count": 5,
   "id": "557768b7",
   "metadata": {},
   "outputs": [
    {
     "data": {
      "text/html": [
       "<div>\n",
       "<style scoped>\n",
       "    .dataframe tbody tr th:only-of-type {\n",
       "        vertical-align: middle;\n",
       "    }\n",
       "\n",
       "    .dataframe tbody tr th {\n",
       "        vertical-align: top;\n",
       "    }\n",
       "\n",
       "    .dataframe thead th {\n",
       "        text-align: right;\n",
       "    }\n",
       "</style>\n",
       "<table border=\"1\" class=\"dataframe\">\n",
       "  <thead>\n",
       "    <tr style=\"text-align: right;\">\n",
       "      <th></th>\n",
       "      <th>Bookmark</th>\n",
       "      <th>Datetime</th>\n",
       "      <th>Summary Sentiment</th>\n",
       "      <th>Headline</th>\n",
       "      <th>Summary</th>\n",
       "      <th>Source</th>\n",
       "    </tr>\n",
       "  </thead>\n",
       "  <tbody>\n",
       "    <tr>\n",
       "      <th>0</th>\n",
       "      <td>No</td>\n",
       "      <td>2024-02-14 15:31:00</td>\n",
       "      <td>-0.99</td>\n",
       "      <td>Paytm shares crash 10% to all-time lows as ED ...</td>\n",
       "      <td>Since January 31, after the RBI imposed its re...</td>\n",
       "      <td>Money Control</td>\n",
       "    </tr>\n",
       "    <tr>\n",
       "      <th>1</th>\n",
       "      <td>No</td>\n",
       "      <td>2024-02-14 15:26:00</td>\n",
       "      <td>-0.99</td>\n",
       "      <td>Check vitals before admitting them in your por...</td>\n",
       "      <td>In the last three days, including this morning...</td>\n",
       "      <td>Economic Times</td>\n",
       "    </tr>\n",
       "    <tr>\n",
       "      <th>2</th>\n",
       "      <td>No</td>\n",
       "      <td>2024-02-14 15:24:00</td>\n",
       "      <td>0.97</td>\n",
       "      <td>Divergence between mid-, large-cap performance...</td>\n",
       "      <td>The Nifty Midcap Select index aims to track th...</td>\n",
       "      <td>Money Control</td>\n",
       "    </tr>\n",
       "    <tr>\n",
       "      <th>3</th>\n",
       "      <td>No</td>\n",
       "      <td>2024-02-14 15:20:00</td>\n",
       "      <td>-0.99</td>\n",
       "      <td>FPIs' investment value rises 13% to $738 bn in...</td>\n",
       "      <td>However, FPIs' contribution to Indian equity m...</td>\n",
       "      <td>Economic Times</td>\n",
       "    </tr>\n",
       "    <tr>\n",
       "      <th>4</th>\n",
       "      <td>No</td>\n",
       "      <td>2024-02-14 15:16:00</td>\n",
       "      <td>0.98</td>\n",
       "      <td>Majestic Rally! Rs 10,000 investment in RIL in...</td>\n",
       "      <td>It was in 2005 that RIL first hit the Rs 1 lak...</td>\n",
       "      <td>Economic Times</td>\n",
       "    </tr>\n",
       "  </tbody>\n",
       "</table>\n",
       "</div>"
      ],
      "text/plain": [
       "  Bookmark             Datetime Summary Sentiment  \\\n",
       "0       No  2024-02-14 15:31:00             -0.99   \n",
       "1       No  2024-02-14 15:26:00             -0.99   \n",
       "2       No  2024-02-14 15:24:00              0.97   \n",
       "3       No  2024-02-14 15:20:00             -0.99   \n",
       "4       No  2024-02-14 15:16:00              0.98   \n",
       "\n",
       "                                            Headline  \\\n",
       "0  Paytm shares crash 10% to all-time lows as ED ...   \n",
       "1  Check vitals before admitting them in your por...   \n",
       "2  Divergence between mid-, large-cap performance...   \n",
       "3  FPIs' investment value rises 13% to $738 bn in...   \n",
       "4  Majestic Rally! Rs 10,000 investment in RIL in...   \n",
       "\n",
       "                                             Summary          Source  \n",
       "0  Since January 31, after the RBI imposed its re...   Money Control  \n",
       "1  In the last three days, including this morning...  Economic Times  \n",
       "2  The Nifty Midcap Select index aims to track th...   Money Control  \n",
       "3  However, FPIs' contribution to Indian equity m...  Economic Times  \n",
       "4  It was in 2005 that RIL first hit the Rs 1 lak...  Economic Times  "
      ]
     },
     "execution_count": 5,
     "metadata": {},
     "output_type": "execute_result"
    }
   ],
   "source": [
    "csv_file = \"C:\\\\Users\\\\taswi\\\\Python Project\\\\export news\\\\news_2024-02-14_15-45-43.csv\"\n",
    "df3 = read_data(csv_file)\n",
    "df3.head()"
   ]
  },
  {
   "cell_type": "code",
   "execution_count": 6,
   "id": "8a033f37",
   "metadata": {},
   "outputs": [
    {
     "name": "stdout",
     "output_type": "stream",
     "text": [
      "(326, 6)\n",
      "(445, 6)\n",
      "(411, 6)\n"
     ]
    }
   ],
   "source": [
    "print(df1.shape)\n",
    "print(df2.shape)\n",
    "print(df3.shape)"
   ]
  },
  {
   "cell_type": "code",
   "execution_count": 7,
   "id": "7bc2bb09",
   "metadata": {},
   "outputs": [],
   "source": [
    "combined_df = pd.concat([df1, df2], ignore_index=True)"
   ]
  },
  {
   "cell_type": "code",
   "execution_count": 8,
   "id": "75919e06",
   "metadata": {},
   "outputs": [
    {
     "data": {
      "text/plain": [
       "(771, 6)"
      ]
     },
     "execution_count": 8,
     "metadata": {},
     "output_type": "execute_result"
    }
   ],
   "source": [
    "combined_df.shape"
   ]
  },
  {
   "cell_type": "code",
   "execution_count": 9,
   "id": "cfe01b4b",
   "metadata": {},
   "outputs": [],
   "source": [
    "combined_df = pd.concat([combined_df, df3], ignore_index=True)"
   ]
  },
  {
   "cell_type": "code",
   "execution_count": 10,
   "id": "1d268585",
   "metadata": {},
   "outputs": [
    {
     "data": {
      "text/plain": [
       "(1182, 6)"
      ]
     },
     "execution_count": 10,
     "metadata": {},
     "output_type": "execute_result"
    }
   ],
   "source": [
    "combined_df.shape"
   ]
  },
  {
   "cell_type": "code",
   "execution_count": 11,
   "id": "52c5b720",
   "metadata": {},
   "outputs": [
    {
     "data": {
      "text/plain": [
       "Bookmark             object\n",
       "Datetime             object\n",
       "Summary Sentiment    object\n",
       "Headline             object\n",
       "Summary              object\n",
       "Source               object\n",
       "dtype: object"
      ]
     },
     "execution_count": 11,
     "metadata": {},
     "output_type": "execute_result"
    }
   ],
   "source": [
    "combined_df.dtypes"
   ]
  },
  {
   "cell_type": "code",
   "execution_count": 12,
   "id": "4b37a014",
   "metadata": {},
   "outputs": [
    {
     "data": {
      "text/html": [
       "<div>\n",
       "<style scoped>\n",
       "    .dataframe tbody tr th:only-of-type {\n",
       "        vertical-align: middle;\n",
       "    }\n",
       "\n",
       "    .dataframe tbody tr th {\n",
       "        vertical-align: top;\n",
       "    }\n",
       "\n",
       "    .dataframe thead th {\n",
       "        text-align: right;\n",
       "    }\n",
       "</style>\n",
       "<table border=\"1\" class=\"dataframe\">\n",
       "  <thead>\n",
       "    <tr style=\"text-align: right;\">\n",
       "      <th></th>\n",
       "      <th>Bookmark</th>\n",
       "      <th>Datetime</th>\n",
       "      <th>Summary Sentiment</th>\n",
       "      <th>Headline</th>\n",
       "      <th>Summary</th>\n",
       "      <th>Source</th>\n",
       "    </tr>\n",
       "  </thead>\n",
       "  <tbody>\n",
       "    <tr>\n",
       "      <th>0</th>\n",
       "      <td>No</td>\n",
       "      <td>2024-02-12 15:49:00</td>\n",
       "      <td>-0.99</td>\n",
       "      <td>PSU banking stocks drag down Sensex, Nifty; an...</td>\n",
       "      <td>Analysts expect markets to observe consolidati...</td>\n",
       "      <td>Money Control</td>\n",
       "    </tr>\n",
       "    <tr>\n",
       "      <th>1</th>\n",
       "      <td>No</td>\n",
       "      <td>2024-02-12 15:49:00</td>\n",
       "      <td>-0.99</td>\n",
       "      <td>Mamaearth parent Honasa Consumer stock soars 1...</td>\n",
       "      <td>Analysts at JPMorgan downgraded the stock to '...</td>\n",
       "      <td>Money Control</td>\n",
       "    </tr>\n",
       "    <tr>\n",
       "      <th>2</th>\n",
       "      <td>No</td>\n",
       "      <td>2024-02-12 15:41:00</td>\n",
       "      <td>-0.99</td>\n",
       "      <td>Live: Nifty sees triple-digit fall; Smallcaps ...</td>\n",
       "      <td>PSU stocks come under pressure dragging the be...</td>\n",
       "      <td>Money Control</td>\n",
       "    </tr>\n",
       "    <tr>\n",
       "      <th>3</th>\n",
       "      <td>No</td>\n",
       "      <td>2024-02-12 15:36:00</td>\n",
       "      <td>-0.96</td>\n",
       "      <td>Bandhan Bank slumps over 7% as weak asset qual...</td>\n",
       "      <td>Release of claims under government guarantees ...</td>\n",
       "      <td>Money Control</td>\n",
       "    </tr>\n",
       "    <tr>\n",
       "      <th>4</th>\n",
       "      <td>No</td>\n",
       "      <td>2024-02-12 15:35:00</td>\n",
       "      <td>-0.97</td>\n",
       "      <td>Entero Healthcare Solutions IPO sees muted res...</td>\n",
       "      <td>The Faridabad-based healthcare products distri...</td>\n",
       "      <td>Money Control</td>\n",
       "    </tr>\n",
       "  </tbody>\n",
       "</table>\n",
       "</div>"
      ],
      "text/plain": [
       "  Bookmark             Datetime Summary Sentiment  \\\n",
       "0       No  2024-02-12 15:49:00             -0.99   \n",
       "1       No  2024-02-12 15:49:00             -0.99   \n",
       "2       No  2024-02-12 15:41:00             -0.99   \n",
       "3       No  2024-02-12 15:36:00             -0.96   \n",
       "4       No  2024-02-12 15:35:00             -0.97   \n",
       "\n",
       "                                            Headline  \\\n",
       "0  PSU banking stocks drag down Sensex, Nifty; an...   \n",
       "1  Mamaearth parent Honasa Consumer stock soars 1...   \n",
       "2  Live: Nifty sees triple-digit fall; Smallcaps ...   \n",
       "3  Bandhan Bank slumps over 7% as weak asset qual...   \n",
       "4  Entero Healthcare Solutions IPO sees muted res...   \n",
       "\n",
       "                                             Summary         Source  \n",
       "0  Analysts expect markets to observe consolidati...  Money Control  \n",
       "1  Analysts at JPMorgan downgraded the stock to '...  Money Control  \n",
       "2  PSU stocks come under pressure dragging the be...  Money Control  \n",
       "3  Release of claims under government guarantees ...  Money Control  \n",
       "4  The Faridabad-based healthcare products distri...  Money Control  "
      ]
     },
     "execution_count": 12,
     "metadata": {},
     "output_type": "execute_result"
    }
   ],
   "source": [
    "combined_df.head()"
   ]
  },
  {
   "cell_type": "code",
   "execution_count": 13,
   "id": "a1f5da42",
   "metadata": {},
   "outputs": [],
   "source": [
    "combined_df.Datetime = pd.to_datetime(combined_df['Datetime'])"
   ]
  },
  {
   "cell_type": "code",
   "execution_count": 14,
   "id": "a9fa6afa",
   "metadata": {},
   "outputs": [
    {
     "data": {
      "text/plain": [
       "Bookmark                     object\n",
       "Datetime             datetime64[ns]\n",
       "Summary Sentiment            object\n",
       "Headline                     object\n",
       "Summary                      object\n",
       "Source                       object\n",
       "dtype: object"
      ]
     },
     "execution_count": 14,
     "metadata": {},
     "output_type": "execute_result"
    }
   ],
   "source": [
    "combined_df.dtypes"
   ]
  },
  {
   "cell_type": "code",
   "execution_count": 15,
   "id": "12ee7d48",
   "metadata": {},
   "outputs": [],
   "source": [
    "combined_df['Summary Sentiment'] = combined_df['Summary Sentiment'].astype(float)"
   ]
  },
  {
   "cell_type": "code",
   "execution_count": 16,
   "id": "0fd84006",
   "metadata": {},
   "outputs": [
    {
     "data": {
      "text/plain": [
       "Bookmark             0\n",
       "Datetime             0\n",
       "Summary Sentiment    0\n",
       "Headline             0\n",
       "Summary              0\n",
       "Source               0\n",
       "dtype: int64"
      ]
     },
     "execution_count": 16,
     "metadata": {},
     "output_type": "execute_result"
    }
   ],
   "source": [
    "combined_df.isnull().sum()"
   ]
  },
  {
   "cell_type": "code",
   "execution_count": 17,
   "id": "8c19cabf",
   "metadata": {},
   "outputs": [
    {
     "data": {
      "text/html": [
       "<div>\n",
       "<style scoped>\n",
       "    .dataframe tbody tr th:only-of-type {\n",
       "        vertical-align: middle;\n",
       "    }\n",
       "\n",
       "    .dataframe tbody tr th {\n",
       "        vertical-align: top;\n",
       "    }\n",
       "\n",
       "    .dataframe thead th {\n",
       "        text-align: right;\n",
       "    }\n",
       "</style>\n",
       "<table border=\"1\" class=\"dataframe\">\n",
       "  <thead>\n",
       "    <tr style=\"text-align: right;\">\n",
       "      <th></th>\n",
       "      <th>Bookmark</th>\n",
       "      <th>Datetime</th>\n",
       "      <th>Summary Sentiment</th>\n",
       "      <th>Headline</th>\n",
       "      <th>Summary</th>\n",
       "      <th>Source</th>\n",
       "    </tr>\n",
       "  </thead>\n",
       "  <tbody>\n",
       "    <tr>\n",
       "      <th>0</th>\n",
       "      <td>No</td>\n",
       "      <td>2024-02-12 15:49:00.000000</td>\n",
       "      <td>-0.99</td>\n",
       "      <td>PSU banking stocks drag down Sensex, Nifty; an...</td>\n",
       "      <td>Analysts expect markets to observe consolidati...</td>\n",
       "      <td>Money Control</td>\n",
       "    </tr>\n",
       "    <tr>\n",
       "      <th>1</th>\n",
       "      <td>No</td>\n",
       "      <td>2024-02-12 15:49:00.000000</td>\n",
       "      <td>-0.99</td>\n",
       "      <td>Mamaearth parent Honasa Consumer stock soars 1...</td>\n",
       "      <td>Analysts at JPMorgan downgraded the stock to '...</td>\n",
       "      <td>Money Control</td>\n",
       "    </tr>\n",
       "    <tr>\n",
       "      <th>2</th>\n",
       "      <td>No</td>\n",
       "      <td>2024-02-12 15:41:00.000000</td>\n",
       "      <td>-0.99</td>\n",
       "      <td>Live: Nifty sees triple-digit fall; Smallcaps ...</td>\n",
       "      <td>PSU stocks come under pressure dragging the be...</td>\n",
       "      <td>Money Control</td>\n",
       "    </tr>\n",
       "    <tr>\n",
       "      <th>3</th>\n",
       "      <td>No</td>\n",
       "      <td>2024-02-12 15:36:00.000000</td>\n",
       "      <td>-0.96</td>\n",
       "      <td>Bandhan Bank slumps over 7% as weak asset qual...</td>\n",
       "      <td>Release of claims under government guarantees ...</td>\n",
       "      <td>Money Control</td>\n",
       "    </tr>\n",
       "    <tr>\n",
       "      <th>4</th>\n",
       "      <td>No</td>\n",
       "      <td>2024-02-12 15:35:00.000000</td>\n",
       "      <td>-0.97</td>\n",
       "      <td>Entero Healthcare Solutions IPO sees muted res...</td>\n",
       "      <td>The Faridabad-based healthcare products distri...</td>\n",
       "      <td>Money Control</td>\n",
       "    </tr>\n",
       "    <tr>\n",
       "      <th>5</th>\n",
       "      <td>No</td>\n",
       "      <td>2024-02-12 15:19:00.000000</td>\n",
       "      <td>-0.89</td>\n",
       "      <td>Eicher Motor Q3 Results Preview: Net profit ma...</td>\n",
       "      <td>In Q3, Eicher Motors’ total sales volume rose ...</td>\n",
       "      <td>Money Control</td>\n",
       "    </tr>\n",
       "    <tr>\n",
       "      <th>6</th>\n",
       "      <td>No</td>\n",
       "      <td>2024-02-12 15:19:00.000000</td>\n",
       "      <td>-0.99</td>\n",
       "      <td>Market tanks but Dow Trend scanner indicates s...</td>\n",
       "      <td>Nifty Pharma index made life highs while Nifty...</td>\n",
       "      <td>Money Control</td>\n",
       "    </tr>\n",
       "    <tr>\n",
       "      <th>7</th>\n",
       "      <td>Yes</td>\n",
       "      <td>2024-02-12 15:19:00.000000</td>\n",
       "      <td>0.99</td>\n",
       "      <td>Bharat Forge net profit surges over 220% YoY i...</td>\n",
       "      <td>EBITDA surged 30.9% to Rs 645 Crores, with EBI...</td>\n",
       "      <td>Money Control</td>\n",
       "    </tr>\n",
       "    <tr>\n",
       "      <th>8</th>\n",
       "      <td>No</td>\n",
       "      <td>2024-02-12 15:17:00.000000</td>\n",
       "      <td>-0.98</td>\n",
       "      <td>MSCI announcement tomorrow: $1 billion inflow ...</td>\n",
       "      <td>The MSCI inclusion can lead to about $ 186 mil...</td>\n",
       "      <td>Economic Times</td>\n",
       "    </tr>\n",
       "    <tr>\n",
       "      <th>9</th>\n",
       "      <td>No</td>\n",
       "      <td>2024-02-12 15:17:00.000000</td>\n",
       "      <td>-0.94</td>\n",
       "      <td>Park Hotels makes an impressive debut. What sh...</td>\n",
       "      <td>​Apeejay Surrendra Park Hotels on Monday debut...</td>\n",
       "      <td>Economic Times</td>\n",
       "    </tr>\n",
       "    <tr>\n",
       "      <th>10</th>\n",
       "      <td>No</td>\n",
       "      <td>2024-02-12 15:13:07.778033</td>\n",
       "      <td>0.99</td>\n",
       "      <td>Did Janvhi Kapoor hike her remuneration for Ra...</td>\n",
       "      <td>As Jahnvi Kapoor gears up for her southern fil...</td>\n",
       "      <td>Zerodha</td>\n",
       "    </tr>\n",
       "    <tr>\n",
       "      <th>11</th>\n",
       "      <td>No</td>\n",
       "      <td>2024-02-12 15:09:07.778033</td>\n",
       "      <td>0.98</td>\n",
       "      <td>JEE Mains 2024 Session 1 Results to be declare...</td>\n",
       "      <td>The paper was attended by 95.8 percent of the ...</td>\n",
       "      <td>Zerodha</td>\n",
       "    </tr>\n",
       "    <tr>\n",
       "      <th>12</th>\n",
       "      <td>No</td>\n",
       "      <td>2024-02-12 15:08:07.778033</td>\n",
       "      <td>-0.99</td>\n",
       "      <td>Super Bowl 2024: US employers brace for 'Super...</td>\n",
       "      <td>An estimated 16.1 million employees plan to mi...</td>\n",
       "      <td>Zerodha</td>\n",
       "    </tr>\n",
       "    <tr>\n",
       "      <th>13</th>\n",
       "      <td>No</td>\n",
       "      <td>2024-02-12 15:07:00.000000</td>\n",
       "      <td>-0.99</td>\n",
       "      <td>LIC, Rites among 6 BSE PSU stocks that outperf...</td>\n",
       "      <td>Benchmark equity indices declined on Monday, d...</td>\n",
       "      <td>Economic Times</td>\n",
       "    </tr>\n",
       "    <tr>\n",
       "      <th>14</th>\n",
       "      <td>No</td>\n",
       "      <td>2024-02-12 15:06:07.778033</td>\n",
       "      <td>0.99</td>\n",
       "      <td>MC Insider | Mystery spice in airfare cut, blo...</td>\n",
       "      <td>Read untold stories from the world of business...</td>\n",
       "      <td>Zerodha</td>\n",
       "    </tr>\n",
       "    <tr>\n",
       "      <th>15</th>\n",
       "      <td>No</td>\n",
       "      <td>2024-02-12 15:03:07.778033</td>\n",
       "      <td>-0.99</td>\n",
       "      <td>Market tanks but Dow Trend scanner indicates s...</td>\n",
       "      <td>Nifty Pharma index made life highs while Nifty...</td>\n",
       "      <td>Zerodha</td>\n",
       "    </tr>\n",
       "    <tr>\n",
       "      <th>16</th>\n",
       "      <td>No</td>\n",
       "      <td>2024-02-12 15:00:07.778033</td>\n",
       "      <td>0.75</td>\n",
       "      <td>LIC, Rites among 6 BSE PSU stocks that outperf...</td>\n",
       "      <td></td>\n",
       "      <td>Zerodha</td>\n",
       "    </tr>\n",
       "    <tr>\n",
       "      <th>17</th>\n",
       "      <td>No</td>\n",
       "      <td>2024-02-12 15:00:00.000000</td>\n",
       "      <td>-0.98</td>\n",
       "      <td>Daily Voice | Future Generali CIO bullish on t...</td>\n",
       "      <td>Niraj Kumar sees limited triggers for a signif...</td>\n",
       "      <td>Money Control</td>\n",
       "    </tr>\n",
       "    <tr>\n",
       "      <th>18</th>\n",
       "      <td>No</td>\n",
       "      <td>2024-02-12 15:00:00.000000</td>\n",
       "      <td>-0.78</td>\n",
       "      <td>Nifty, Bank Nifty weakness to persist, volatil...</td>\n",
       "      <td>On daily charts, Nifty Bank formed a bearish e...</td>\n",
       "      <td>Money Control</td>\n",
       "    </tr>\n",
       "    <tr>\n",
       "      <th>19</th>\n",
       "      <td>No</td>\n",
       "      <td>2024-02-12 14:58:07.778033</td>\n",
       "      <td>-0.99</td>\n",
       "      <td>SSMB 29: SS Rajamouli’s production team denies...</td>\n",
       "      <td>The tentatively titled film, SSMB 29, is in it...</td>\n",
       "      <td>Zerodha</td>\n",
       "    </tr>\n",
       "  </tbody>\n",
       "</table>\n",
       "</div>"
      ],
      "text/plain": [
       "   Bookmark                   Datetime  Summary Sentiment  \\\n",
       "0        No 2024-02-12 15:49:00.000000              -0.99   \n",
       "1        No 2024-02-12 15:49:00.000000              -0.99   \n",
       "2        No 2024-02-12 15:41:00.000000              -0.99   \n",
       "3        No 2024-02-12 15:36:00.000000              -0.96   \n",
       "4        No 2024-02-12 15:35:00.000000              -0.97   \n",
       "5        No 2024-02-12 15:19:00.000000              -0.89   \n",
       "6        No 2024-02-12 15:19:00.000000              -0.99   \n",
       "7       Yes 2024-02-12 15:19:00.000000               0.99   \n",
       "8        No 2024-02-12 15:17:00.000000              -0.98   \n",
       "9        No 2024-02-12 15:17:00.000000              -0.94   \n",
       "10       No 2024-02-12 15:13:07.778033               0.99   \n",
       "11       No 2024-02-12 15:09:07.778033               0.98   \n",
       "12       No 2024-02-12 15:08:07.778033              -0.99   \n",
       "13       No 2024-02-12 15:07:00.000000              -0.99   \n",
       "14       No 2024-02-12 15:06:07.778033               0.99   \n",
       "15       No 2024-02-12 15:03:07.778033              -0.99   \n",
       "16       No 2024-02-12 15:00:07.778033               0.75   \n",
       "17       No 2024-02-12 15:00:00.000000              -0.98   \n",
       "18       No 2024-02-12 15:00:00.000000              -0.78   \n",
       "19       No 2024-02-12 14:58:07.778033              -0.99   \n",
       "\n",
       "                                             Headline  \\\n",
       "0   PSU banking stocks drag down Sensex, Nifty; an...   \n",
       "1   Mamaearth parent Honasa Consumer stock soars 1...   \n",
       "2   Live: Nifty sees triple-digit fall; Smallcaps ...   \n",
       "3   Bandhan Bank slumps over 7% as weak asset qual...   \n",
       "4   Entero Healthcare Solutions IPO sees muted res...   \n",
       "5   Eicher Motor Q3 Results Preview: Net profit ma...   \n",
       "6   Market tanks but Dow Trend scanner indicates s...   \n",
       "7   Bharat Forge net profit surges over 220% YoY i...   \n",
       "8   MSCI announcement tomorrow: $1 billion inflow ...   \n",
       "9   Park Hotels makes an impressive debut. What sh...   \n",
       "10  Did Janvhi Kapoor hike her remuneration for Ra...   \n",
       "11  JEE Mains 2024 Session 1 Results to be declare...   \n",
       "12  Super Bowl 2024: US employers brace for 'Super...   \n",
       "13  LIC, Rites among 6 BSE PSU stocks that outperf...   \n",
       "14  MC Insider | Mystery spice in airfare cut, blo...   \n",
       "15  Market tanks but Dow Trend scanner indicates s...   \n",
       "16  LIC, Rites among 6 BSE PSU stocks that outperf...   \n",
       "17  Daily Voice | Future Generali CIO bullish on t...   \n",
       "18  Nifty, Bank Nifty weakness to persist, volatil...   \n",
       "19  SSMB 29: SS Rajamouli’s production team denies...   \n",
       "\n",
       "                                              Summary          Source  \n",
       "0   Analysts expect markets to observe consolidati...   Money Control  \n",
       "1   Analysts at JPMorgan downgraded the stock to '...   Money Control  \n",
       "2   PSU stocks come under pressure dragging the be...   Money Control  \n",
       "3   Release of claims under government guarantees ...   Money Control  \n",
       "4   The Faridabad-based healthcare products distri...   Money Control  \n",
       "5   In Q3, Eicher Motors’ total sales volume rose ...   Money Control  \n",
       "6   Nifty Pharma index made life highs while Nifty...   Money Control  \n",
       "7   EBITDA surged 30.9% to Rs 645 Crores, with EBI...   Money Control  \n",
       "8   The MSCI inclusion can lead to about $ 186 mil...  Economic Times  \n",
       "9   ​Apeejay Surrendra Park Hotels on Monday debut...  Economic Times  \n",
       "10  As Jahnvi Kapoor gears up for her southern fil...         Zerodha  \n",
       "11  The paper was attended by 95.8 percent of the ...         Zerodha  \n",
       "12  An estimated 16.1 million employees plan to mi...         Zerodha  \n",
       "13  Benchmark equity indices declined on Monday, d...  Economic Times  \n",
       "14  Read untold stories from the world of business...         Zerodha  \n",
       "15  Nifty Pharma index made life highs while Nifty...         Zerodha  \n",
       "16                                                            Zerodha  \n",
       "17  Niraj Kumar sees limited triggers for a signif...   Money Control  \n",
       "18  On daily charts, Nifty Bank formed a bearish e...   Money Control  \n",
       "19  The tentatively titled film, SSMB 29, is in it...         Zerodha  "
      ]
     },
     "execution_count": 17,
     "metadata": {},
     "output_type": "execute_result"
    }
   ],
   "source": [
    "combined_df.head(20)"
   ]
  },
  {
   "cell_type": "code",
   "execution_count": 18,
   "id": "0df02339",
   "metadata": {},
   "outputs": [
    {
     "data": {
      "text/plain": [
       "16    No\n",
       "Name: Bookmark, dtype: object"
      ]
     },
     "execution_count": 18,
     "metadata": {},
     "output_type": "execute_result"
    }
   ],
   "source": [
    "combined_df[combined_df['Datetime'] == \"2024-02-12 15:00:07.778033\"]['Bookmark']"
   ]
  },
  {
   "cell_type": "code",
   "execution_count": 19,
   "id": "e9587894",
   "metadata": {},
   "outputs": [
    {
     "data": {
      "text/plain": [
       "Bookmark              0\n",
       "Datetime              0\n",
       "Summary Sentiment     0\n",
       "Headline              0\n",
       "Summary              57\n",
       "Source                0\n",
       "dtype: int64"
      ]
     },
     "execution_count": 19,
     "metadata": {},
     "output_type": "execute_result"
    }
   ],
   "source": [
    "combined_df.isin(['', 'NA', 'NaN']).sum()"
   ]
  },
  {
   "cell_type": "code",
   "execution_count": 20,
   "id": "8cf92d7e",
   "metadata": {},
   "outputs": [],
   "source": [
    "combined_df['Summary'] = combined_df.apply(lambda row: row['Headline'] if row['Summary'] == \"\" else row['Summary'], axis=1)"
   ]
  },
  {
   "cell_type": "code",
   "execution_count": 21,
   "id": "90c22015",
   "metadata": {},
   "outputs": [
    {
     "data": {
      "text/html": [
       "<div>\n",
       "<style scoped>\n",
       "    .dataframe tbody tr th:only-of-type {\n",
       "        vertical-align: middle;\n",
       "    }\n",
       "\n",
       "    .dataframe tbody tr th {\n",
       "        vertical-align: top;\n",
       "    }\n",
       "\n",
       "    .dataframe thead th {\n",
       "        text-align: right;\n",
       "    }\n",
       "</style>\n",
       "<table border=\"1\" class=\"dataframe\">\n",
       "  <thead>\n",
       "    <tr style=\"text-align: right;\">\n",
       "      <th></th>\n",
       "      <th>Bookmark</th>\n",
       "      <th>Datetime</th>\n",
       "      <th>Summary Sentiment</th>\n",
       "      <th>Headline</th>\n",
       "      <th>Summary</th>\n",
       "      <th>Source</th>\n",
       "    </tr>\n",
       "  </thead>\n",
       "  <tbody>\n",
       "  </tbody>\n",
       "</table>\n",
       "</div>"
      ],
      "text/plain": [
       "Empty DataFrame\n",
       "Columns: [Bookmark, Datetime, Summary Sentiment, Headline, Summary, Source]\n",
       "Index: []"
      ]
     },
     "execution_count": 21,
     "metadata": {},
     "output_type": "execute_result"
    }
   ],
   "source": [
    "combined_df[combined_df.Summary.isin(['', 'NA', 'NaN'])]"
   ]
  },
  {
   "cell_type": "code",
   "execution_count": 22,
   "id": "55412c82",
   "metadata": {},
   "outputs": [
    {
     "data": {
      "text/plain": [
       "Bookmark             0\n",
       "Datetime             0\n",
       "Summary Sentiment    0\n",
       "Headline             0\n",
       "Summary              0\n",
       "Source               0\n",
       "dtype: int64"
      ]
     },
     "execution_count": 22,
     "metadata": {},
     "output_type": "execute_result"
    }
   ],
   "source": [
    "combined_df.isin(['', 'NA', 'NaN']).sum()"
   ]
  },
  {
   "cell_type": "code",
   "execution_count": 23,
   "id": "2e315101",
   "metadata": {},
   "outputs": [
    {
     "data": {
      "text/plain": [
       "2.5380710659898478"
      ]
     },
     "execution_count": 23,
     "metadata": {},
     "output_type": "execute_result"
    }
   ],
   "source": [
    "combined_df.Bookmark.value_counts()[1]*100/combined_df.shape[0]"
   ]
  },
  {
   "cell_type": "code",
   "execution_count": 24,
   "id": "c9afeb6f",
   "metadata": {},
   "outputs": [],
   "source": [
    "combined_df['Bookmark'] = combined_df['Bookmark'].map({'No': 0, 'Yes': 1})"
   ]
  },
  {
   "cell_type": "code",
   "execution_count": 25,
   "id": "3192831d",
   "metadata": {},
   "outputs": [
    {
     "data": {
      "text/html": [
       "<div>\n",
       "<style scoped>\n",
       "    .dataframe tbody tr th:only-of-type {\n",
       "        vertical-align: middle;\n",
       "    }\n",
       "\n",
       "    .dataframe tbody tr th {\n",
       "        vertical-align: top;\n",
       "    }\n",
       "\n",
       "    .dataframe thead th {\n",
       "        text-align: right;\n",
       "    }\n",
       "</style>\n",
       "<table border=\"1\" class=\"dataframe\">\n",
       "  <thead>\n",
       "    <tr style=\"text-align: right;\">\n",
       "      <th></th>\n",
       "      <th>Bookmark</th>\n",
       "      <th>Datetime</th>\n",
       "      <th>Summary Sentiment</th>\n",
       "      <th>Headline</th>\n",
       "      <th>Summary</th>\n",
       "      <th>Source</th>\n",
       "    </tr>\n",
       "  </thead>\n",
       "  <tbody>\n",
       "    <tr>\n",
       "      <th>0</th>\n",
       "      <td>0</td>\n",
       "      <td>2024-02-12 15:49:00</td>\n",
       "      <td>-0.99</td>\n",
       "      <td>PSU banking stocks drag down Sensex, Nifty; an...</td>\n",
       "      <td>Analysts expect markets to observe consolidati...</td>\n",
       "      <td>Money Control</td>\n",
       "    </tr>\n",
       "    <tr>\n",
       "      <th>1</th>\n",
       "      <td>0</td>\n",
       "      <td>2024-02-12 15:49:00</td>\n",
       "      <td>-0.99</td>\n",
       "      <td>Mamaearth parent Honasa Consumer stock soars 1...</td>\n",
       "      <td>Analysts at JPMorgan downgraded the stock to '...</td>\n",
       "      <td>Money Control</td>\n",
       "    </tr>\n",
       "    <tr>\n",
       "      <th>2</th>\n",
       "      <td>0</td>\n",
       "      <td>2024-02-12 15:41:00</td>\n",
       "      <td>-0.99</td>\n",
       "      <td>Live: Nifty sees triple-digit fall; Smallcaps ...</td>\n",
       "      <td>PSU stocks come under pressure dragging the be...</td>\n",
       "      <td>Money Control</td>\n",
       "    </tr>\n",
       "    <tr>\n",
       "      <th>3</th>\n",
       "      <td>0</td>\n",
       "      <td>2024-02-12 15:36:00</td>\n",
       "      <td>-0.96</td>\n",
       "      <td>Bandhan Bank slumps over 7% as weak asset qual...</td>\n",
       "      <td>Release of claims under government guarantees ...</td>\n",
       "      <td>Money Control</td>\n",
       "    </tr>\n",
       "    <tr>\n",
       "      <th>4</th>\n",
       "      <td>0</td>\n",
       "      <td>2024-02-12 15:35:00</td>\n",
       "      <td>-0.97</td>\n",
       "      <td>Entero Healthcare Solutions IPO sees muted res...</td>\n",
       "      <td>The Faridabad-based healthcare products distri...</td>\n",
       "      <td>Money Control</td>\n",
       "    </tr>\n",
       "  </tbody>\n",
       "</table>\n",
       "</div>"
      ],
      "text/plain": [
       "   Bookmark            Datetime  Summary Sentiment  \\\n",
       "0         0 2024-02-12 15:49:00              -0.99   \n",
       "1         0 2024-02-12 15:49:00              -0.99   \n",
       "2         0 2024-02-12 15:41:00              -0.99   \n",
       "3         0 2024-02-12 15:36:00              -0.96   \n",
       "4         0 2024-02-12 15:35:00              -0.97   \n",
       "\n",
       "                                            Headline  \\\n",
       "0  PSU banking stocks drag down Sensex, Nifty; an...   \n",
       "1  Mamaearth parent Honasa Consumer stock soars 1...   \n",
       "2  Live: Nifty sees triple-digit fall; Smallcaps ...   \n",
       "3  Bandhan Bank slumps over 7% as weak asset qual...   \n",
       "4  Entero Healthcare Solutions IPO sees muted res...   \n",
       "\n",
       "                                             Summary         Source  \n",
       "0  Analysts expect markets to observe consolidati...  Money Control  \n",
       "1  Analysts at JPMorgan downgraded the stock to '...  Money Control  \n",
       "2  PSU stocks come under pressure dragging the be...  Money Control  \n",
       "3  Release of claims under government guarantees ...  Money Control  \n",
       "4  The Faridabad-based healthcare products distri...  Money Control  "
      ]
     },
     "execution_count": 25,
     "metadata": {},
     "output_type": "execute_result"
    }
   ],
   "source": [
    "combined_df.head()"
   ]
  },
  {
   "cell_type": "code",
   "execution_count": 26,
   "id": "46a5118a",
   "metadata": {},
   "outputs": [
    {
     "data": {
      "image/png": "[encoded data removed]",
      "text/plain": [
       "<Figure size 432x288 with 1 Axes>"
      ]
     },
     "metadata": {
      "needs_background": "light"
     },
     "output_type": "display_data"
    }
   ],
   "source": [
    "sns.countplot(x='Bookmark', data=combined_df)\n",
    "plt.show()"
   ]
  },
  {
   "cell_type": "code",
   "execution_count": 27,
   "id": "573a7869",
   "metadata": {},
   "outputs": [
    {
     "data": {
      "text/plain": [
       "0    1152\n",
       "1      30\n",
       "Name: Bookmark, dtype: int64"
      ]
     },
     "execution_count": 27,
     "metadata": {},
     "output_type": "execute_result"
    }
   ],
   "source": [
    "combined_df.Bookmark.value_counts()"
   ]
  },
  {
   "cell_type": "code",
   "execution_count": 28,
   "id": "95fe8192",
   "metadata": {},
   "outputs": [],
   "source": [
    "# def model_train(combined_df):\n",
    "#     tfidf_vectorizer = TfidfVectorizer()\n",
    "#     X_text = combined_df[['Summary', 'Headline', 'Source']].astype(str).apply(lambda x: ' '.join(x), axis=1)\n",
    "#     X_text_tfidf = tfidf_vectorizer.fit_transform(X_text)\n",
    "\n",
    "#     # Concatenating TF-IDF features with Sentiment feature\n",
    "#     X_processed = pd.concat([pd.DataFrame(X_text_tfidf.toarray()), combined_df['Summary Sentiment']], axis=1)\n",
    "#     y = combined_df['Bookmark']\n",
    "\n",
    "#     # Splitting the data into training and testing sets\n",
    "#     X_train, X_test, y_train, y_test = train_test_split(X_processed, y, test_size=0.2, random_state=42)\n",
    "\n",
    "#     # Applying SMOTE to balance the dataset\n",
    "#     smote = SMOTE(random_state=42)\n",
    "#     X_train_resampled, y_train_resampled = smote.fit_resample(X_train, y_train)\n",
    "    \n",
    "#     logistic_model = LogisticRegression()\n",
    "#     logistic_model.fit(X_train_resampled, y_train_resampled)\n",
    "#     print(\"Training successful\")\n",
    "   \n",
    "#     # Make predictions on the test set\n",
    "#     y_pred = logistic_model.predict(X_test)\n",
    "\n",
    "#     # Evaluate the model\n",
    "#     print(classification_report(y_test, y_pred))"
   ]
  },
  {
   "cell_type": "code",
   "execution_count": 29,
   "id": "1b3f56cb",
   "metadata": {},
   "outputs": [],
   "source": [
    "tfidf_vectorizer = TfidfVectorizer()\n",
    "X_text = combined_df[['Summary', 'Headline', 'Source']].astype(str).apply(lambda x: ' '.join(x), axis=1)\n",
    "X_text_tfidf = tfidf_vectorizer.fit_transform(X_text)\n",
    "\n",
    "# Concatenating TF-IDF features with Sentiment feature\n",
    "X_processed = pd.concat([pd.DataFrame(X_text_tfidf.toarray()), combined_df['Summary Sentiment']], axis=1)\n",
    "y = combined_df['Bookmark']\n",
    "\n",
    "# Splitting the data into training and testing sets\n",
    "X_train, X_test, y_train, y_test = train_test_split(X_processed, y, test_size=0.2, random_state=42)\n"
   ]
  },
  {
   "cell_type": "markdown",
   "id": "e35f25ad",
   "metadata": {},
   "source": [
    "### Applying SMOTE"
   ]
  },
  {
   "cell_type": "code",
   "execution_count": 30,
   "id": "1367f5fa",
   "metadata": {},
   "outputs": [
    {
     "name": "stderr",
     "output_type": "stream",
     "text": [
      "C:\\Users\\taswi\\anaconda3\\lib\\site-packages\\sklearn\\utils\\validation.py:1688: FutureWarning: Feature names only support names that are all strings. Got feature names with dtypes: ['int', 'str']. An error will be raised in 1.2.\n",
      "  warnings.warn(\n"
     ]
    }
   ],
   "source": [
    "# Applying SMOTE to balance the dataset\n",
    "smote = SMOTE(random_state=42)\n",
    "X_train_resampled, y_train_resampled = smote.fit_resample(X_train, y_train)"
   ]
  },
  {
   "cell_type": "markdown",
   "id": "c0a4ff22",
   "metadata": {},
   "source": [
    "### Logistic regression with Source as TF-IDF"
   ]
  },
  {
   "cell_type": "code",
   "execution_count": 31,
   "id": "e11ef606",
   "metadata": {},
   "outputs": [
    {
     "name": "stderr",
     "output_type": "stream",
     "text": [
      "C:\\Users\\taswi\\anaconda3\\lib\\site-packages\\sklearn\\utils\\validation.py:1688: FutureWarning: Feature names only support names that are all strings. Got feature names with dtypes: ['int', 'str']. An error will be raised in 1.2.\n",
      "  warnings.warn(\n"
     ]
    },
    {
     "name": "stdout",
     "output_type": "stream",
     "text": [
      "              precision    recall  f1-score   support\n",
      "\n",
      "           0       1.00      0.99      0.99       232\n",
      "           1       0.67      0.80      0.73         5\n",
      "\n",
      "    accuracy                           0.99       237\n",
      "   macro avg       0.83      0.90      0.86       237\n",
      "weighted avg       0.99      0.99      0.99       237\n",
      "\n"
     ]
    },
    {
     "name": "stderr",
     "output_type": "stream",
     "text": [
      "C:\\Users\\taswi\\anaconda3\\lib\\site-packages\\sklearn\\utils\\validation.py:1688: FutureWarning: Feature names only support names that are all strings. Got feature names with dtypes: ['int', 'str']. An error will be raised in 1.2.\n",
      "  warnings.warn(\n"
     ]
    }
   ],
   "source": [
    "logistic_model = LogisticRegression()\n",
    "logistic_model.fit(X_train_resampled, y_train_resampled)\n",
    "\n",
    "# Make predictions on the test set\n",
    "y_pred = logistic_model.predict(X_test)\n",
    "\n",
    "# Evaluate the model\n",
    "print(classification_report(y_test, y_pred))"
   ]
  },
  {
   "cell_type": "code",
   "execution_count": 32,
   "id": "7b75e7d1",
   "metadata": {},
   "outputs": [
    {
     "data": {
      "text/plain": [
       "802     0\n",
       "1001    0\n",
       "1047    0\n",
       "86      0\n",
       "933     0\n",
       "       ..\n",
       "139     0\n",
       "423     0\n",
       "823     0\n",
       "224     0\n",
       "965     0\n",
       "Name: Bookmark, Length: 237, dtype: int64"
      ]
     },
     "execution_count": 32,
     "metadata": {},
     "output_type": "execute_result"
    }
   ],
   "source": [
    "y_test"
   ]
  },
  {
   "cell_type": "code",
   "execution_count": 33,
   "id": "31efbe58",
   "metadata": {},
   "outputs": [
    {
     "data": {
      "text/plain": [
       "array([0, 0, 0, 0, 0, 0, 0, 0, 0, 0, 0, 0, 0, 0, 0, 0, 0, 0, 0, 0, 0, 0,\n",
       "       0, 1, 0, 0, 0, 0, 0, 0, 0, 0, 1, 0, 0, 0, 0, 0, 0, 0, 0, 0, 0, 0,\n",
       "       0, 0, 0, 0, 0, 0, 0, 0, 0, 0, 0, 0, 0, 0, 0, 1, 0, 0, 0, 0, 0, 0,\n",
       "       0, 0, 0, 0, 0, 0, 0, 0, 0, 0, 0, 0, 0, 0, 0, 0, 0, 0, 0, 0, 0, 0,\n",
       "       0, 0, 0, 0, 0, 0, 0, 0, 0, 0, 0, 0, 0, 0, 0, 0, 0, 0, 0, 0, 0, 0,\n",
       "       0, 0, 0, 0, 0, 0, 0, 0, 0, 0, 0, 0, 0, 0, 0, 0, 0, 0, 0, 0, 0, 0,\n",
       "       0, 0, 0, 0, 0, 0, 0, 0, 0, 0, 0, 0, 0, 0, 0, 1, 0, 0, 0, 0, 0, 0,\n",
       "       0, 0, 0, 0, 0, 0, 0, 0, 0, 0, 0, 0, 0, 0, 0, 0, 0, 0, 0, 0, 0, 0,\n",
       "       0, 0, 0, 0, 0, 0, 0, 0, 0, 0, 0, 0, 0, 1, 0, 0, 0, 0, 0, 0, 0, 0,\n",
       "       0, 0, 0, 0, 0, 0, 0, 0, 0, 0, 0, 0, 0, 0, 0, 0, 0, 0, 0, 0, 0, 0,\n",
       "       1, 0, 0, 0, 0, 0, 0, 0, 0, 0, 0, 0, 0, 0, 0, 0, 0], dtype=int64)"
      ]
     },
     "execution_count": 33,
     "metadata": {},
     "output_type": "execute_result"
    }
   ],
   "source": [
    "y_pred"
   ]
  },
  {
   "cell_type": "code",
   "execution_count": 34,
   "id": "9dd087d3",
   "metadata": {},
   "outputs": [],
   "source": [
    "y_test_series = pd.Series(y_test)"
   ]
  },
  {
   "cell_type": "code",
   "execution_count": 35,
   "id": "3c29a53c",
   "metadata": {},
   "outputs": [],
   "source": [
    "y_test_lst = y_test_series.to_list()"
   ]
  },
  {
   "cell_type": "code",
   "execution_count": 36,
   "id": "de9c0fe1",
   "metadata": {},
   "outputs": [
    {
     "data": {
      "text/plain": [
       "[0,\n",
       " 0,\n",
       " 0,\n",
       " 0,\n",
       " 0,\n",
       " 0,\n",
       " 0,\n",
       " 0,\n",
       " 0,\n",
       " 0,\n",
       " 0,\n",
       " 0,\n",
       " 0,\n",
       " 0,\n",
       " 0,\n",
       " 0,\n",
       " 0,\n",
       " 0,\n",
       " 0,\n",
       " 0,\n",
       " 0,\n",
       " 0,\n",
       " 0,\n",
       " 1,\n",
       " 0,\n",
       " 0,\n",
       " 0,\n",
       " 0,\n",
       " 0,\n",
       " 0,\n",
       " 0,\n",
       " 0,\n",
       " 0,\n",
       " 0,\n",
       " 0,\n",
       " 0,\n",
       " 0,\n",
       " 0,\n",
       " 0,\n",
       " 0,\n",
       " 0,\n",
       " 0,\n",
       " 0,\n",
       " 0,\n",
       " 0,\n",
       " 0,\n",
       " 0,\n",
       " 0,\n",
       " 0,\n",
       " 0,\n",
       " 0,\n",
       " 0,\n",
       " 0,\n",
       " 0,\n",
       " 0,\n",
       " 0,\n",
       " 0,\n",
       " 0,\n",
       " 0,\n",
       " 1,\n",
       " 0,\n",
       " 0,\n",
       " 0,\n",
       " 0,\n",
       " 0,\n",
       " 0,\n",
       " 1,\n",
       " 0,\n",
       " 0,\n",
       " 0,\n",
       " 0,\n",
       " 0,\n",
       " 0,\n",
       " 0,\n",
       " 0,\n",
       " 0,\n",
       " 0,\n",
       " 0,\n",
       " 0,\n",
       " 0,\n",
       " 0,\n",
       " 0,\n",
       " 0,\n",
       " 0,\n",
       " 0,\n",
       " 0,\n",
       " 0,\n",
       " 0,\n",
       " 0,\n",
       " 0,\n",
       " 0,\n",
       " 0,\n",
       " 0,\n",
       " 0,\n",
       " 0,\n",
       " 0,\n",
       " 0,\n",
       " 0,\n",
       " 0,\n",
       " 0,\n",
       " 0,\n",
       " 0,\n",
       " 0,\n",
       " 0,\n",
       " 0,\n",
       " 0,\n",
       " 0,\n",
       " 0,\n",
       " 0,\n",
       " 0,\n",
       " 0,\n",
       " 0,\n",
       " 0,\n",
       " 0,\n",
       " 0,\n",
       " 0,\n",
       " 0,\n",
       " 0,\n",
       " 0,\n",
       " 0,\n",
       " 0,\n",
       " 0,\n",
       " 0,\n",
       " 0,\n",
       " 0,\n",
       " 0,\n",
       " 0,\n",
       " 0,\n",
       " 0,\n",
       " 0,\n",
       " 0,\n",
       " 0,\n",
       " 0,\n",
       " 0,\n",
       " 0,\n",
       " 0,\n",
       " 0,\n",
       " 0,\n",
       " 0,\n",
       " 0,\n",
       " 0,\n",
       " 0,\n",
       " 0,\n",
       " 0,\n",
       " 0,\n",
       " 0,\n",
       " 0,\n",
       " 0,\n",
       " 0,\n",
       " 0,\n",
       " 0,\n",
       " 0,\n",
       " 0,\n",
       " 0,\n",
       " 0,\n",
       " 0,\n",
       " 0,\n",
       " 0,\n",
       " 0,\n",
       " 0,\n",
       " 0,\n",
       " 0,\n",
       " 0,\n",
       " 0,\n",
       " 0,\n",
       " 0,\n",
       " 0,\n",
       " 0,\n",
       " 0,\n",
       " 0,\n",
       " 0,\n",
       " 0,\n",
       " 0,\n",
       " 0,\n",
       " 0,\n",
       " 0,\n",
       " 0,\n",
       " 0,\n",
       " 0,\n",
       " 0,\n",
       " 0,\n",
       " 0,\n",
       " 0,\n",
       " 0,\n",
       " 0,\n",
       " 0,\n",
       " 0,\n",
       " 0,\n",
       " 0,\n",
       " 1,\n",
       " 0,\n",
       " 0,\n",
       " 0,\n",
       " 0,\n",
       " 0,\n",
       " 0,\n",
       " 0,\n",
       " 0,\n",
       " 0,\n",
       " 0,\n",
       " 0,\n",
       " 0,\n",
       " 0,\n",
       " 0,\n",
       " 0,\n",
       " 0,\n",
       " 0,\n",
       " 0,\n",
       " 0,\n",
       " 0,\n",
       " 0,\n",
       " 0,\n",
       " 0,\n",
       " 0,\n",
       " 0,\n",
       " 0,\n",
       " 0,\n",
       " 0,\n",
       " 0,\n",
       " 0,\n",
       " 1,\n",
       " 0,\n",
       " 0,\n",
       " 0,\n",
       " 0,\n",
       " 0,\n",
       " 0,\n",
       " 0,\n",
       " 0,\n",
       " 0,\n",
       " 0,\n",
       " 0,\n",
       " 0,\n",
       " 0,\n",
       " 0,\n",
       " 0,\n",
       " 0]"
      ]
     },
     "execution_count": 36,
     "metadata": {},
     "output_type": "execute_result"
    }
   ],
   "source": [
    "y_test_lst"
   ]
  },
  {
   "cell_type": "code",
   "execution_count": 37,
   "id": "53d15164",
   "metadata": {},
   "outputs": [
    {
     "name": "stdout",
     "output_type": "stream",
     "text": [
      "True Positives (TP): 4\n",
      "False Positives (FP): 2\n",
      "True Negatives (TN): 230\n",
      "False Negatives (FN): 1\n"
     ]
    }
   ],
   "source": [
    "from sklearn.metrics import confusion_matrix\n",
    "\n",
    "conf_matrix = confusion_matrix(y_test_lst, y_pred)\n",
    "\n",
    "# Extract TP, FP, TN, FN from confusion matrix\n",
    "TP = conf_matrix[1, 1]\n",
    "FP = conf_matrix[0, 1]\n",
    "TN = conf_matrix[0, 0]\n",
    "FN = conf_matrix[1, 0]\n",
    "\n",
    "print(\"True Positives (TP):\", TP)\n",
    "print(\"False Positives (FP):\", FP)\n",
    "print(\"True Negatives (TN):\", TN)\n",
    "print(\"False Negatives (FN):\", FN)"
   ]
  },
  {
   "cell_type": "code",
   "execution_count": 38,
   "id": "29547586",
   "metadata": {},
   "outputs": [
    {
     "name": "stderr",
     "output_type": "stream",
     "text": [
      "C:\\Users\\taswi\\anaconda3\\lib\\site-packages\\sklearn\\utils\\validation.py:1688: FutureWarning: Feature names only support names that are all strings. Got feature names with dtypes: ['int', 'str']. An error will be raised in 1.2.\n",
      "  warnings.warn(\n"
     ]
    },
    {
     "name": "stdout",
     "output_type": "stream",
     "text": [
      "Predicted class: 0\n"
     ]
    }
   ],
   "source": [
    "# Preprocess the raw data\n",
    "raw_data = pd.DataFrame({\n",
    "    'Summary': [\"PSU banking stocks drag down Sensex, Nifty; analysts say consolidation likely to prolong\"],\n",
    "    'Sentiment': [-0.99],\n",
    "    'Headline': [\"Analysts expect markets to observe consolidation for the next few days as valuations look stretched and investors approach the fag end of earnings season\"],\n",
    "    'Source': [\"Money Control\"]\n",
    "})\n",
    "\n",
    "# Preprocess the text data\n",
    "X_text_raw = raw_data[['Summary']].astype(str).apply(lambda x: ' '.join(x), axis=1)\n",
    "X_text_raw_tfidf = tfidf_vectorizer.transform(X_text_raw)\n",
    "\n",
    "# Concatenate TF-IDF features with Sentiment feature\n",
    "X_raw_processed = pd.concat([pd.DataFrame(X_text_raw_tfidf.toarray()), raw_data['Sentiment']], axis=1)\n",
    "\n",
    "# Make predictions\n",
    "predictions = logistic_model.predict(X_raw_processed)\n",
    "\n",
    "# Output the prediction\n",
    "print(\"Predicted class:\", predictions[0])\n"
   ]
  },
  {
   "cell_type": "code",
   "execution_count": 39,
   "id": "5d7cc6bb",
   "metadata": {},
   "outputs": [
    {
     "data": {
      "text/plain": [
       "['tfidf_vectorizer.joblib']"
      ]
     },
     "execution_count": 39,
     "metadata": {},
     "output_type": "execute_result"
    }
   ],
   "source": [
    "from joblib import dump\n",
    "\n",
    "# Assuming 'logistic_model' is your trained model\n",
    "logistic_vanilla = logistic_model  # Assuming 'logistic_model' is the trained model\n",
    "dump(logistic_vanilla, 'logistic_vanilla.joblib')\n",
    "# Save the trained TF-IDF vectorizer\n",
    "dump(tfidf_vectorizer, 'tfidf_vectorizer.joblib')\n"
   ]
  },
  {
   "cell_type": "code",
   "execution_count": 40,
   "id": "603256b3",
   "metadata": {},
   "outputs": [
    {
     "data": {
      "text/plain": [
       "Zerodha           984\n",
       "Money Control     150\n",
       "Economic Times     48\n",
       "Name: Source, dtype: int64"
      ]
     },
     "execution_count": 40,
     "metadata": {},
     "output_type": "execute_result"
    }
   ],
   "source": [
    "combined_df.Source.value_counts()"
   ]
  },
  {
   "cell_type": "code",
   "execution_count": 41,
   "id": "0ddb06ca",
   "metadata": {},
   "outputs": [],
   "source": [
    "combined_df['Source'] = combined_df['Source'].map({'Zerodha': 0, 'Money Control': 1, 'Economic Times': 2})"
   ]
  },
  {
   "cell_type": "code",
   "execution_count": 42,
   "id": "32575cac",
   "metadata": {},
   "outputs": [
    {
     "name": "stderr",
     "output_type": "stream",
     "text": [
      "C:\\Users\\taswi\\anaconda3\\lib\\site-packages\\sklearn\\utils\\validation.py:1688: FutureWarning: Feature names only support names that are all strings. Got feature names with dtypes: ['int', 'str']. An error will be raised in 1.2.\n",
      "  warnings.warn(\n"
     ]
    }
   ],
   "source": [
    "tfidf_vectorizer_source_map = TfidfVectorizer()\n",
    "X_text = combined_df[['Summary', 'Headline']].astype(str).apply(lambda x: ' '.join(x), axis=1)\n",
    "X_text_tfidf = tfidf_vectorizer_source_map.fit_transform(X_text)\n",
    "\n",
    "# Concatenating TF-IDF features with Sentiment feature\n",
    "X_processed = pd.concat([pd.DataFrame(X_text_tfidf.toarray()), combined_df[['Summary Sentiment', 'Source']]],  axis=1)\n",
    "y = combined_df['Bookmark']\n",
    "\n",
    "# Splitting the data into training and testing sets\n",
    "X_train, X_test, y_train, y_test = train_test_split(X_processed, y, test_size=0.2, random_state=42)\n",
    "\n",
    "# Applying SMOTE to balance the dataset\n",
    "smote = SMOTE(random_state=42)\n",
    "X_train_resampled, y_train_resampled = smote.fit_resample(X_train, y_train)"
   ]
  },
  {
   "cell_type": "markdown",
   "id": "e50b7fb4",
   "metadata": {},
   "source": [
    "### Logistic regression with Source Mapping"
   ]
  },
  {
   "cell_type": "code",
   "execution_count": 43,
   "id": "acd19b80",
   "metadata": {},
   "outputs": [
    {
     "name": "stderr",
     "output_type": "stream",
     "text": [
      "C:\\Users\\taswi\\anaconda3\\lib\\site-packages\\sklearn\\utils\\validation.py:1688: FutureWarning: Feature names only support names that are all strings. Got feature names with dtypes: ['int', 'str']. An error will be raised in 1.2.\n",
      "  warnings.warn(\n"
     ]
    },
    {
     "name": "stdout",
     "output_type": "stream",
     "text": [
      "              precision    recall  f1-score   support\n",
      "\n",
      "           0       1.00      1.00      1.00       232\n",
      "           1       0.80      0.80      0.80         5\n",
      "\n",
      "    accuracy                           0.99       237\n",
      "   macro avg       0.90      0.90      0.90       237\n",
      "weighted avg       0.99      0.99      0.99       237\n",
      "\n"
     ]
    },
    {
     "name": "stderr",
     "output_type": "stream",
     "text": [
      "C:\\Users\\taswi\\anaconda3\\lib\\site-packages\\sklearn\\utils\\validation.py:1688: FutureWarning: Feature names only support names that are all strings. Got feature names with dtypes: ['int', 'str']. An error will be raised in 1.2.\n",
      "  warnings.warn(\n"
     ]
    }
   ],
   "source": [
    "logistic_model_source_map = LogisticRegression()\n",
    "logistic_model_source_map.fit(X_train_resampled, y_train_resampled)\n",
    "\n",
    "# Make predictions on the test set\n",
    "y_pred = logistic_model_source_map.predict(X_test)\n",
    "\n",
    "# Evaluate the model\n",
    "print(classification_report(y_test, y_pred))"
   ]
  },
  {
   "cell_type": "code",
   "execution_count": 44,
   "id": "5d215a9b",
   "metadata": {},
   "outputs": [
    {
     "data": {
      "text/plain": [
       "['tfidf_vectorizer_source_map.joblib']"
      ]
     },
     "execution_count": 44,
     "metadata": {},
     "output_type": "execute_result"
    }
   ],
   "source": [
    "# Assuming 'logistic_model' is your trained model\n",
    "logistic_vanilla_source_map = logistic_model_source_map  # Assuming 'logistic_model' is the trained model\n",
    "dump(logistic_vanilla_source_map, 'logistic_vanilla_source_map.joblib')\n",
    "# Save the trained TF-IDF vectorizer\n",
    "dump(tfidf_vectorizer_source_map, 'tfidf_vectorizer_source_map.joblib')"
   ]
  },
  {
   "cell_type": "markdown",
   "id": "a5b6adae",
   "metadata": {},
   "source": [
    "### Gradient Boosting - Hyper parameter tunning (GridSearch CV)"
   ]
  },
  {
   "cell_type": "code",
   "execution_count": 45,
   "id": "eb45b892",
   "metadata": {},
   "outputs": [],
   "source": [
    "mymodel = GradientBoostingClassifier(learning_rate=0.1, min_samples_split=500,min_samples_leaf=50,max_depth=8,max_features='sqrt',subsample=0.8,random_state=10)"
   ]
  },
  {
   "cell_type": "code",
   "execution_count": 46,
   "id": "17115659",
   "metadata": {},
   "outputs": [
    {
     "name": "stderr",
     "output_type": "stream",
     "text": [
      "C:\\Users\\taswi\\anaconda3\\lib\\site-packages\\sklearn\\utils\\validation.py:1688: FutureWarning: Feature names only support names that are all strings. Got feature names with dtypes: ['int', 'str']. An error will be raised in 1.2.\n",
      "  warnings.warn(\n"
     ]
    },
    {
     "data": {
      "text/plain": [
       "({'n_estimators': 380}, 0.9998877599243856)"
      ]
     },
     "execution_count": 46,
     "metadata": {},
     "output_type": "execute_result"
    }
   ],
   "source": [
    "param_test1 = {'n_estimators':range(10,400,10)}\n",
    "from sklearn.model_selection import GridSearchCV\n",
    "CV_gbc = GridSearchCV(estimator=mymodel, param_grid=param_test1, scoring='roc_auc',n_jobs=4, cv= 5)\n",
    "CV_gbc.fit(X_train_resampled,y_train_resampled)\n",
    "CV_gbc.best_params_, CV_gbc.best_score_"
   ]
  },
  {
   "cell_type": "code",
   "execution_count": 47,
   "id": "af7b42e4",
   "metadata": {},
   "outputs": [
    {
     "name": "stderr",
     "output_type": "stream",
     "text": [
      "C:\\Users\\taswi\\anaconda3\\lib\\site-packages\\sklearn\\utils\\validation.py:1688: FutureWarning: Feature names only support names that are all strings. Got feature names with dtypes: ['int', 'str']. An error will be raised in 1.2.\n",
      "  warnings.warn(\n"
     ]
    },
    {
     "data": {
      "text/plain": [
       "({'max_depth': 6, 'min_samples_split': 400}, 0.9999734168241966)"
      ]
     },
     "execution_count": 47,
     "metadata": {},
     "output_type": "execute_result"
    }
   ],
   "source": [
    "param_test2 = {'max_depth':range(5,9,1), 'min_samples_split':range(400,800,100)}\n",
    "gbc = GridSearchCV(estimator = GradientBoostingClassifier(learning_rate=0.2, n_estimators=380, max_features='sqrt', subsample=0.8, random_state=10), \n",
    "param_grid = param_test2, scoring='roc_auc',n_jobs=4, cv=5)\n",
    "gbc.fit(X_train_resampled,y_train_resampled)\n",
    "gbc.best_params_, gbc.best_score_"
   ]
  },
  {
   "cell_type": "code",
   "execution_count": 48,
   "id": "1e75a3b9",
   "metadata": {},
   "outputs": [
    {
     "name": "stderr",
     "output_type": "stream",
     "text": [
      "C:\\Users\\taswi\\anaconda3\\lib\\site-packages\\sklearn\\utils\\validation.py:1688: FutureWarning: Feature names only support names that are all strings. Got feature names with dtypes: ['int', 'str']. An error will be raised in 1.2.\n",
      "  warnings.warn(\n"
     ]
    },
    {
     "data": {
      "text/plain": [
       "({'min_samples_leaf': 30, 'min_samples_split': 400}, 1.0)"
      ]
     },
     "execution_count": 48,
     "metadata": {},
     "output_type": "execute_result"
    }
   ],
   "source": [
    "param_test3 = {'min_samples_split':range(400,1200,100), 'min_samples_leaf':range(30,71,10)}\n",
    "gsearch3 = GridSearchCV(estimator = GradientBoostingClassifier(learning_rate=0.2, n_estimators=380,max_depth=6, max_features='sqrt', subsample=0.8, random_state=10), \n",
    "param_grid = param_test3, scoring='roc_auc',n_jobs=4, cv=5)\n",
    "gsearch3.fit(X_train_resampled,y_train_resampled)\n",
    "gsearch3.best_params_, gsearch3.best_score_"
   ]
  },
  {
   "cell_type": "markdown",
   "id": "1d2e0cc1",
   "metadata": {},
   "source": [
    "### LSTM"
   ]
  },
  {
   "cell_type": "code",
   "execution_count": 49,
   "id": "bbf0af28",
   "metadata": {},
   "outputs": [],
   "source": [
    "X_train_resampled,X_val_resampled,y_train_resampled,y_val_resampled=train_test_split(\n",
    "    X_train_resampled,\n",
    "    y_train_resampled,\n",
    "    random_state=42,\n",
    "    test_size=0.15\n",
    ")"
   ]
  },
  {
   "cell_type": "code",
   "execution_count": 50,
   "id": "8580fc39",
   "metadata": {},
   "outputs": [
    {
     "name": "stdout",
     "output_type": "stream",
     "text": [
      "WARNING:tensorflow:From C:\\Users\\taswi\\anaconda3\\lib\\site-packages\\keras\\src\\losses.py:2976: The name tf.losses.sparse_softmax_cross_entropy is deprecated. Please use tf.compat.v1.losses.sparse_softmax_cross_entropy instead.\n",
      "\n"
     ]
    }
   ],
   "source": [
    "from tensorflow.keras.models import Sequential\n",
    "from tensorflow.keras.layers import Embedding\n",
    "from tensorflow.keras.layers import LSTM\n",
    "from tensorflow.keras.layers import Dense"
   ]
  },
  {
   "cell_type": "code",
   "execution_count": 51,
   "id": "146656ef",
   "metadata": {},
   "outputs": [
    {
     "name": "stdout",
     "output_type": "stream",
     "text": [
      "WARNING:tensorflow:From C:\\Users\\taswi\\anaconda3\\lib\\site-packages\\keras\\src\\backend.py:873: The name tf.get_default_graph is deprecated. Please use tf.compat.v1.get_default_graph instead.\n",
      "\n"
     ]
    }
   ],
   "source": [
    "model=Sequential()"
   ]
  },
  {
   "cell_type": "code",
   "execution_count": 52,
   "id": "9bce9d0d",
   "metadata": {},
   "outputs": [],
   "source": [
    "feature_num=100\n",
    "sentence_len = 73\n",
    "vocab_size = 10000\n",
    "model.add(\n",
    "    Embedding(\n",
    "        input_dim=vocab_size,\n",
    "        output_dim=feature_num,\n",
    "        input_length=sentence_len\n",
    "    )\n",
    ")"
   ]
  },
  {
   "cell_type": "code",
   "execution_count": 53,
   "id": "e786ddcd",
   "metadata": {},
   "outputs": [],
   "source": [
    "model.add(\n",
    "    LSTM(\n",
    "    units=128\n",
    "    )\n",
    ")"
   ]
  },
  {
   "cell_type": "code",
   "execution_count": 54,
   "id": "b4edf2f0",
   "metadata": {},
   "outputs": [],
   "source": [
    "model.add(\n",
    "    Dense(\n",
    "        units=1,\n",
    "        activation=\"sigmoid\"\n",
    "    )\n",
    ")"
   ]
  },
  {
   "cell_type": "code",
   "execution_count": 55,
   "id": "400591c6",
   "metadata": {},
   "outputs": [],
   "source": [
    "from tensorflow.keras.optimizers import Adam\n",
    "model.compile(\n",
    "    optimizer=Adam(\n",
    "    learning_rate=0.001\n",
    "    ),\n",
    "    loss=\"binary_crossentropy\",\n",
    "    metrics=[\"accuracy\"]\n",
    ")"
   ]
  },
  {
   "cell_type": "code",
   "execution_count": 56,
   "id": "c3e01545",
   "metadata": {},
   "outputs": [
    {
     "name": "stdout",
     "output_type": "stream",
     "text": [
      "Epoch 1/10\n"
     ]
    },
    {
     "ename": "ValueError",
     "evalue": "in user code:\n\n    File \"C:\\Users\\taswi\\anaconda3\\lib\\site-packages\\keras\\src\\engine\\training.py\", line 1401, in train_function  *\n        return step_function(self, iterator)\n    File \"C:\\Users\\taswi\\anaconda3\\lib\\site-packages\\keras\\src\\engine\\training.py\", line 1384, in step_function  **\n        outputs = model.distribute_strategy.run(run_step, args=(data,))\n    File \"C:\\Users\\taswi\\anaconda3\\lib\\site-packages\\keras\\src\\engine\\training.py\", line 1373, in run_step  **\n        outputs = model.train_step(data)\n    File \"C:\\Users\\taswi\\anaconda3\\lib\\site-packages\\keras\\src\\engine\\training.py\", line 1150, in train_step\n        y_pred = self(x, training=True)\n    File \"C:\\Users\\taswi\\anaconda3\\lib\\site-packages\\keras\\src\\utils\\traceback_utils.py\", line 70, in error_handler\n        raise e.with_traceback(filtered_tb) from None\n    File \"C:\\Users\\taswi\\anaconda3\\lib\\site-packages\\keras\\src\\engine\\input_spec.py\", line 298, in assert_input_compatibility\n        raise ValueError(\n\n    ValueError: Input 0 of layer \"sequential\" is incompatible with the layer: expected shape=(None, 73), found shape=(None, 7314)\n",
     "output_type": "error",
     "traceback": [
      "\u001b[1;31m---------------------------------------------------------------------------\u001b[0m",
      "\u001b[1;31mValueError\u001b[0m                                Traceback (most recent call last)",
      "Input \u001b[1;32mIn [56]\u001b[0m, in \u001b[0;36m<cell line: 1>\u001b[1;34m()\u001b[0m\n\u001b[1;32m----> 1\u001b[0m \u001b[43mmodel\u001b[49m\u001b[38;5;241;43m.\u001b[39;49m\u001b[43mfit\u001b[49m\u001b[43m(\u001b[49m\n\u001b[0;32m      2\u001b[0m \u001b[43m    \u001b[49m\u001b[43mX_train_resampled\u001b[49m\u001b[43m,\u001b[49m\n\u001b[0;32m      3\u001b[0m \u001b[43m    \u001b[49m\u001b[43my_train_resampled\u001b[49m\u001b[43m,\u001b[49m\n\u001b[0;32m      4\u001b[0m \u001b[43m    \u001b[49m\u001b[43mvalidation_data\u001b[49m\u001b[38;5;241;43m=\u001b[39;49m\u001b[43m(\u001b[49m\n\u001b[0;32m      5\u001b[0m \u001b[43m        \u001b[49m\u001b[43mX_val_resampled\u001b[49m\u001b[43m,\u001b[49m\n\u001b[0;32m      6\u001b[0m \u001b[43m        \u001b[49m\u001b[43my_val_resampled\u001b[49m\n\u001b[0;32m      7\u001b[0m \u001b[43m    \u001b[49m\u001b[43m)\u001b[49m\u001b[43m,\u001b[49m\n\u001b[0;32m      8\u001b[0m \u001b[43m    \u001b[49m\u001b[43mepochs\u001b[49m\u001b[38;5;241;43m=\u001b[39;49m\u001b[38;5;241;43m10\u001b[39;49m\n\u001b[0;32m      9\u001b[0m \u001b[43m)\u001b[49m\n",
      "File \u001b[1;32m~\\anaconda3\\lib\\site-packages\\keras\\src\\utils\\traceback_utils.py:70\u001b[0m, in \u001b[0;36mfilter_traceback.<locals>.error_handler\u001b[1;34m(*args, **kwargs)\u001b[0m\n\u001b[0;32m     67\u001b[0m     filtered_tb \u001b[38;5;241m=\u001b[39m _process_traceback_frames(e\u001b[38;5;241m.\u001b[39m__traceback__)\n\u001b[0;32m     68\u001b[0m     \u001b[38;5;66;03m# To get the full stack trace, call:\u001b[39;00m\n\u001b[0;32m     69\u001b[0m     \u001b[38;5;66;03m# `tf.debugging.disable_traceback_filtering()`\u001b[39;00m\n\u001b[1;32m---> 70\u001b[0m     \u001b[38;5;28;01mraise\u001b[39;00m e\u001b[38;5;241m.\u001b[39mwith_traceback(filtered_tb) \u001b[38;5;28;01mfrom\u001b[39;00m \u001b[38;5;28;01mNone\u001b[39;00m\n\u001b[0;32m     71\u001b[0m \u001b[38;5;28;01mfinally\u001b[39;00m:\n\u001b[0;32m     72\u001b[0m     \u001b[38;5;28;01mdel\u001b[39;00m filtered_tb\n",
      "File \u001b[1;32m~\\AppData\\Local\\Temp\\__autograph_generated_filem23gmbvu.py:15\u001b[0m, in \u001b[0;36mouter_factory.<locals>.inner_factory.<locals>.tf__train_function\u001b[1;34m(iterator)\u001b[0m\n\u001b[0;32m     13\u001b[0m \u001b[38;5;28;01mtry\u001b[39;00m:\n\u001b[0;32m     14\u001b[0m     do_return \u001b[38;5;241m=\u001b[39m \u001b[38;5;28;01mTrue\u001b[39;00m\n\u001b[1;32m---> 15\u001b[0m     retval_ \u001b[38;5;241m=\u001b[39m ag__\u001b[38;5;241m.\u001b[39mconverted_call(ag__\u001b[38;5;241m.\u001b[39mld(step_function), (ag__\u001b[38;5;241m.\u001b[39mld(\u001b[38;5;28mself\u001b[39m), ag__\u001b[38;5;241m.\u001b[39mld(iterator)), \u001b[38;5;28;01mNone\u001b[39;00m, fscope)\n\u001b[0;32m     16\u001b[0m \u001b[38;5;28;01mexcept\u001b[39;00m:\n\u001b[0;32m     17\u001b[0m     do_return \u001b[38;5;241m=\u001b[39m \u001b[38;5;28;01mFalse\u001b[39;00m\n",
      "\u001b[1;31mValueError\u001b[0m: in user code:\n\n    File \"C:\\Users\\taswi\\anaconda3\\lib\\site-packages\\keras\\src\\engine\\training.py\", line 1401, in train_function  *\n        return step_function(self, iterator)\n    File \"C:\\Users\\taswi\\anaconda3\\lib\\site-packages\\keras\\src\\engine\\training.py\", line 1384, in step_function  **\n        outputs = model.distribute_strategy.run(run_step, args=(data,))\n    File \"C:\\Users\\taswi\\anaconda3\\lib\\site-packages\\keras\\src\\engine\\training.py\", line 1373, in run_step  **\n        outputs = model.train_step(data)\n    File \"C:\\Users\\taswi\\anaconda3\\lib\\site-packages\\keras\\src\\engine\\training.py\", line 1150, in train_step\n        y_pred = self(x, training=True)\n    File \"C:\\Users\\taswi\\anaconda3\\lib\\site-packages\\keras\\src\\utils\\traceback_utils.py\", line 70, in error_handler\n        raise e.with_traceback(filtered_tb) from None\n    File \"C:\\Users\\taswi\\anaconda3\\lib\\site-packages\\keras\\src\\engine\\input_spec.py\", line 298, in assert_input_compatibility\n        raise ValueError(\n\n    ValueError: Input 0 of layer \"sequential\" is incompatible with the layer: expected shape=(None, 73), found shape=(None, 7314)\n"
     ]
    }
   ],
   "source": [
    "model.fit(\n",
    "    X_train_resampled,\n",
    "    y_train_resampled,\n",
    "    validation_data=(\n",
    "        X_val_resampled,\n",
    "        y_val_resampled\n",
    "    ),\n",
    "    epochs=10\n",
    ")"
   ]
  },
  {
   "cell_type": "code",
   "execution_count": null,
   "id": "6fa320c6",
   "metadata": {},
   "outputs": [],
   "source": []
  }
 ],
 "metadata": {
  "kernelspec": {
   "display_name": "Python 3 (ipykernel)",
   "language": "python",
   "name": "python3"
  },
  "language_info": {
   "codemirror_mode": {
    "name": "ipython",
    "version": 3
   },
   "file_extension": ".py",
   "mimetype": "text/x-python",
   "name": "python",
   "nbconvert_exporter": "python",
   "pygments_lexer": "ipython3",
   "version": "3.9.12"
  }
 },
 "nbformat": 4,
 "nbformat_minor": 5
}
